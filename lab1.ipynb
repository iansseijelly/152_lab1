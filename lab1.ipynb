{
 "cells": [
  {
   "cell_type": "code",
   "execution_count": 1,
   "metadata": {},
   "outputs": [],
   "source": [
    "import seaborn as sns\n",
    "import matplotlib.pyplot as plt\n",
    "import pandas as pd\n",
    "import numpy as np"
   ]
  },
  {
   "cell_type": "code",
   "execution_count": 2,
   "metadata": {},
   "outputs": [],
   "source": [
    "# set a grey background (use sns.set_theme() if seaborn version 0.11.0 or above) \n",
    "# sns.set(style=\"darkgrid\")\n",
    "df = pd.read_csv(\"1stage.csv\")\n",
    "df = df.T.reset_index()"
   ]
  },
  {
   "cell_type": "code",
   "execution_count": 3,
   "metadata": {},
   "outputs": [
    {
     "data": {
      "text/html": [
       "<div>\n",
       "<style scoped>\n",
       "    .dataframe tbody tr th:only-of-type {\n",
       "        vertical-align: middle;\n",
       "    }\n",
       "\n",
       "    .dataframe tbody tr th {\n",
       "        vertical-align: top;\n",
       "    }\n",
       "\n",
       "    .dataframe thead th {\n",
       "        text-align: right;\n",
       "    }\n",
       "</style>\n",
       "<table border=\"1\" class=\"dataframe\">\n",
       "  <thead>\n",
       "    <tr style=\"text-align: right;\">\n",
       "      <th></th>\n",
       "      <th>index</th>\n",
       "      <th>0</th>\n",
       "      <th>1</th>\n",
       "      <th>2</th>\n",
       "      <th>3</th>\n",
       "      <th>4</th>\n",
       "      <th>5</th>\n",
       "      <th>6</th>\n",
       "    </tr>\n",
       "  </thead>\n",
       "  <tbody>\n",
       "    <tr>\n",
       "      <th>0</th>\n",
       "      <td>Testbench</td>\n",
       "      <td>vvadd</td>\n",
       "      <td>towers</td>\n",
       "      <td>rsort</td>\n",
       "      <td>qsort</td>\n",
       "      <td>multiply</td>\n",
       "      <td>meidan</td>\n",
       "      <td>dhrystone</td>\n",
       "    </tr>\n",
       "    <tr>\n",
       "      <th>1</th>\n",
       "      <td>Arithmetic</td>\n",
       "      <td>45.878</td>\n",
       "      <td>41.702</td>\n",
       "      <td>59.58</td>\n",
       "      <td>38.382</td>\n",
       "      <td>63.151</td>\n",
       "      <td>31.845</td>\n",
       "      <td>40.379</td>\n",
       "    </tr>\n",
       "    <tr>\n",
       "      <th>2</th>\n",
       "      <td>Ld/St</td>\n",
       "      <td>30.573</td>\n",
       "      <td>42.197</td>\n",
       "      <td>34.87</td>\n",
       "      <td>31.471</td>\n",
       "      <td>4.883</td>\n",
       "      <td>32.147</td>\n",
       "      <td>35.324</td>\n",
       "    </tr>\n",
       "    <tr>\n",
       "      <th>3</th>\n",
       "      <td>Branch/Jump</td>\n",
       "      <td>22.468</td>\n",
       "      <td>15.388</td>\n",
       "      <td>4.398</td>\n",
       "      <td>29.825</td>\n",
       "      <td>31.618</td>\n",
       "      <td>35.193</td>\n",
       "      <td>23.757</td>\n",
       "    </tr>\n",
       "    <tr>\n",
       "      <th>4</th>\n",
       "      <td>Misc.</td>\n",
       "      <td>1.081</td>\n",
       "      <td>0.714</td>\n",
       "      <td>1.152</td>\n",
       "      <td>0.322</td>\n",
       "      <td>0.348</td>\n",
       "      <td>0.815</td>\n",
       "      <td>0.541</td>\n",
       "    </tr>\n",
       "  </tbody>\n",
       "</table>\n",
       "</div>"
      ],
      "text/plain": [
       "         index       0       1      2       3         4       5          6\n",
       "0    Testbench   vvadd  towers  rsort   qsort  multiply  meidan  dhrystone\n",
       "1   Arithmetic  45.878  41.702  59.58  38.382    63.151  31.845     40.379\n",
       "2        Ld/St  30.573  42.197  34.87  31.471     4.883  32.147     35.324\n",
       "3  Branch/Jump  22.468  15.388  4.398  29.825    31.618  35.193     23.757\n",
       "4        Misc.   1.081   0.714  1.152   0.322     0.348   0.815      0.541"
      ]
     },
     "execution_count": 3,
     "metadata": {},
     "output_type": "execute_result"
    }
   ],
   "source": [
    "df"
   ]
  },
  {
   "cell_type": "code",
   "execution_count": 4,
   "metadata": {},
   "outputs": [],
   "source": [
    "col1 = df[0][1:]\n",
    "col2 = df[1][1:]\n",
    "col3 = df[2][1:]\n",
    "col4 = df[3][1:]\n",
    "col5 = df[4][1:]\n",
    "col6 = df[5][1:]\n",
    "col7 = df[6][1:]\n",
    "col0 = df['index'][1:]\n",
    "\n",
    "n_col1 = np.concatenate((col1, col2,col3,col4,col5,col6,col7))\n",
    "n_col2 = np.concatenate((col0, col0, col0, col0,col0,col0,col0))\n",
    "n_col3 = np.array(['vvadd'] * 4 + ['towers'] * 4 + ['rsort'] * 4+ ['qsort'] * 4 + ['multiply'] * 4 + ['median'] * 4 + ['dhrystone'] * 4)"
   ]
  },
  {
   "cell_type": "code",
   "execution_count": 5,
   "metadata": {},
   "outputs": [
    {
     "data": {
      "text/plain": [
       "<AxesSubplot: xlabel='Inst.', ylabel='percentage'>"
      ]
     },
     "execution_count": 5,
     "metadata": {},
     "output_type": "execute_result"
    },
    {
     "data": {
      "image/png": "[encoded data removed]",
      "text/plain": [
       "<Figure size 640x480 with 1 Axes>"
      ]
     },
     "metadata": {},
     "output_type": "display_data"
    }
   ],
   "source": [
    "ddf = pd.DataFrame()\n",
    "ddf['percentage'] = n_col1\n",
    "ddf['Inst.'] = n_col2\n",
    "ddf['Testbench'] = n_col3\n",
    "\n",
    "sns.barplot(data=ddf, x='Inst.', y=\"percentage\", hue = \"Testbench\",palette=\"rainbow\")"
   ]
  },
  {
   "cell_type": "code",
   "execution_count": 17,
   "metadata": {},
   "outputs": [
    {
     "name": "stdout",
     "output_type": "stream",
     "text": [
      "the CPI for vvadd is 1.423475 with 2-cycle load/store, and is 1.117745 with 1-cycle load/store, and it is NOT worth it.\n",
      "\n",
      "the CPI for towers is 1.5024899999999999 with 2-cycle load/store, and is 1.08052 with 1-cycle load/store, and it is worth it.\n",
      "\n",
      "the CPI for rsort is 1.3764499999999997 with 2-cycle load/store, and is 1.02775 with 1-cycle load/store, and it is worth it.\n",
      "\n",
      "the CPI for qsort is 1.4654449999999999 with 2-cycle load/store, and is 1.150735 with 1-cycle load/store, and it is NOT worth it.\n",
      "\n",
      "the CPI for multiply is 1.20866 with 2-cycle load/store, and is 1.1598300000000001 with 1-cycle load/store, and it is NOT worth it.\n",
      "\n",
      "the CPI for meidan is 1.50151 with 2-cycle load/store, and is 1.18004 with 1-cycle load/store, and it is NOT worth it.\n",
      "\n",
      "the CPI for dhrystone is 1.47474 with 2-cycle load/store, and is 1.1215000000000002 with 1-cycle load/store, and it is worth it.\n",
      "\n"
     ]
    }
   ],
   "source": [
    "df = pd.read_csv(\"1stage.csv\")\n",
    "\n",
    "# df = df.reset_index()  # make sure indexes pair with number of rows\n",
    "\n",
    "\n",
    "for index, row in df.iterrows():\n",
    "    tb = row[\"Testbench\"]\n",
    "    CPI_base = row[\"Arithmetic\"] * 1 + row[\"Ld/St\"]*2 + (row[\"Branch/Jump\"] + row[\"Misc.\"]) * 1.5\n",
    "    CPI_op = row[\"Arithmetic\"] * 1 + row[\"Ld/St\"]*1 + (row[\"Branch/Jump\"] + row[\"Misc.\"]) * 1.5\n",
    "    judge = \"is\" if CPI_op * 1.3 < CPI_base else \"is NOT\"\n",
    "    print(f\"The CPI for {tb} is {CPI_base/100} with 2-cycle load/store, and is {CPI_op/100} with 1-cycle load/store, and it {judge} worth it.\")\n",
    "    print()\n"
   ]
  },
  {
   "cell_type": "code",
   "execution_count": null,
   "metadata": {},
   "outputs": [],
   "source": []
  }
 ],
 "metadata": {
  "kernelspec": {
   "display_name": "Python 3",
   "language": "python",
   "name": "python3"
  },
  "language_info": {
   "codemirror_mode": {
    "name": "ipython",
    "version": 3
   },
   "file_extension": ".py",
   "mimetype": "text/x-python",
   "name": "python",
   "nbconvert_exporter": "python",
   "pygments_lexer": "ipython3",
   "version": "3.9.7"
  },
  "orig_nbformat": 4,
  "vscode": {
   "interpreter": {
    "hash": "87b1e3bcd6081a3af369d10d610fc23c69627322be5245663b14ef7f729da7ac"
   }
  }
 },
 "nbformat": 4,
 "nbformat_minor": 2
}
